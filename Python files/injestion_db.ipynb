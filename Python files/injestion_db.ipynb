{
 "cells": [
  {
   "cell_type": "code",
   "execution_count": 3,
   "id": "1ad590ce",
   "metadata": {},
   "outputs": [
    {
     "name": "stdout",
     "output_type": "stream",
     "text": [
      "Requirement already satisfied: sqlalchemy in e:\\data analyst\\python\\venv\\lib\\site-packages (2.0.41)\n",
      "Requirement already satisfied: greenlet>=1 in e:\\data analyst\\python\\venv\\lib\\site-packages (from sqlalchemy) (3.2.3)\n",
      "Requirement already satisfied: typing-extensions>=4.6.0 in e:\\data analyst\\python\\venv\\lib\\site-packages (from sqlalchemy) (4.14.1)\n",
      "Note: you may need to restart the kernel to use updated packages.\n"
     ]
    }
   ],
   "source": [
    "%pip install sqlalchemy\n",
    "import pandas as pd\n",
    "import os\n",
    "from sqlalchemy import create_engine\n",
    "import logging\n",
    "import time \n",
    "\n",
    "logging.basicConfig(\n",
    "    filename=\"logs/.logs\",\n",
    "    level=logging.DEBUG,\n",
    "    format=\"%(asctime)s-%(levelname)s-%(message)s\",\n",
    "    filemode=\"a\"\n",
    ")\n",
    "\n",
    "\n",
    "engine=create_engine('sqlite:///inventory.db')\n",
    "\n",
    "def ingest_db(df,table_name,engine):\n",
    "    df.to_sql(table_name, con=engine, if_exists='replace', index=False)\n",
    "\n",
    "def load_raw_data():\n",
    "    \"\"\"\n",
    "    Loads all CSV files from the specified data directory, reads them into pandas DataFrames,\n",
    "    and ingests each DataFrame into a SQLite database using SQLAlchemy. Logs the ingestion process,\n",
    "    including the start and end time, and the total time taken for ingestion.\"\"\"\n",
    "\n",
    "    start=time.time()\n",
    "    for file in os.listdir(data_dir):\n",
    "        if '.csv' in file:\n",
    "            df=pd.read_csv(data_dir+'/'+file)\n",
    "            logging.info(f'Injesting {file} in db')\n",
    "            ingest_db(df, file[:-4],engine)\n",
    "    end=time.time()\n",
    "    total_time=(end-start)/60\n",
    "    logging.info('Ingestion Complete')      \n",
    "    logging.info(f'\\nTotal Time Taken {total_time} minutes')      \n",
    "    \n",
    "    \n",
    "if __name__ == '__main__':\n",
    "    data_dir = 'data'  \n",
    "    load_raw_data()"
   ]
  }
 ],
 "metadata": {
  "kernelspec": {
   "display_name": "Python 3",
   "language": "python",
   "name": "python3"
  },
  "language_info": {
   "codemirror_mode": {
    "name": "ipython",
    "version": 3
   },
   "file_extension": ".py",
   "mimetype": "text/x-python",
   "name": "python",
   "nbconvert_exporter": "python",
   "pygments_lexer": "ipython3",
   "version": "3.12.0"
  }
 },
 "nbformat": 4,
 "nbformat_minor": 5
}
